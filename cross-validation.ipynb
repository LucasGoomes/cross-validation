{
  "nbformat": 4,
  "nbformat_minor": 0,
  "metadata": {
    "colab": {
      "name": "Classificação-multiclasse-iris-com-validação-cruzada.ipynb",
      "provenance": [],
      "collapsed_sections": [],
      "authorship_tag": "ABX9TyPTJBKztGk1AElrr/+mbWOu"
    },
    "kernelspec": {
      "name": "python3",
      "display_name": "Python 3"
    },
    "language_info": {
      "name": "python"
    }
  },
  "cells": [
    {
      "cell_type": "code",
      "execution_count": null,
      "metadata": {
        "id": "9JuFw0DgX-M7"
      },
      "outputs": [],
      "source": [
        "!pip install skorch #biblioteca que uni o scikit-learn e o pytorch, fazendo o treinamento, ajuste e otimização do nosso modelo"
      ]
    },
    {
      "cell_type": "code",
      "source": [
        "import pandas as pd\n",
        "import numpy as np\n",
        "import torch.nn as nn\n",
        "import torch\n",
        "from skorch import NeuralNetClassifier\n",
        "from sklearn.model_selection import cross_val_score"
      ],
      "metadata": {
        "id": "mVMAyGwtY8z3"
      },
      "execution_count": null,
      "outputs": []
    },
    {
      "cell_type": "code",
      "source": [
        "#garantindo sempre os mesmo resultados\n",
        "np.random.seed(123)\n",
        "torch.manual_seed(123)\n",
        "\n",
        "#definindo nossa bd\n",
        "base = pd.read_csv('iris.csv')\n",
        "previsores = base.iloc[:, 0:4].values\n",
        "classe = base.iloc[: , 4].values"
      ],
      "metadata": {
        "id": "fCMzMpjSZKil"
      },
      "execution_count": null,
      "outputs": []
    },
    {
      "cell_type": "code",
      "source": [
        "#transformamos as classes de variaveis categoricas para variaveis numéricas\n",
        "from sklearn.preprocessing import LabelEncoder\n",
        "encoder = LabelEncoder()\n",
        "classe = encoder.fit_transform(classe)"
      ],
      "metadata": {
        "id": "ZSpZauPHZ7uB"
      },
      "execution_count": null,
      "outputs": []
    },
    {
      "cell_type": "code",
      "source": [
        "#verificando se a transformção ocorreu\n",
        "np.unique(classe)"
      ],
      "metadata": {
        "id": "MxsXgyBzaKLh"
      },
      "execution_count": null,
      "outputs": []
    },
    {
      "cell_type": "code",
      "source": [
        "previsores = previsores.astype('float32') #definindo o tipo dos previsores como float pois temos tamanhos com virgula\n",
        "classe = classe.astype('int64') #definindo o tipo da classe como int pois temos somente os valores 0,1,2"
      ],
      "metadata": {
        "id": "Vi8QyYQBabHS"
      },
      "execution_count": null,
      "outputs": []
    },
    {
      "cell_type": "code",
      "source": [
        "#CONSTRUINDO O MODELO\n",
        "class Classificador_torch(nn.Module):\n",
        "  def __init__(self):\n",
        "    #definindo as camadas densas e as camadas de ativação\n",
        "    super().__init__()\n",
        "    self.dense0 = nn.Linear(4, 16)\n",
        "    self.activation0 = nn.ReLU()\n",
        "    self.dense1 = nn.Linear(16, 16)\n",
        "    self.activation1 = nn.ReLU()\n",
        "    self.dense2 = nn.Linear(16, 3)\n",
        "  #definindo a conexão entre as camadas\n",
        "  def forward(self, X):\n",
        "    X = self.dense0(X)\n",
        "    X = self.activation0(X)\n",
        "    X = self.dense1(X)\n",
        "    X = self.activation1(X)\n",
        "    X = self.dense2(X)\n",
        "    return X"
      ],
      "metadata": {
        "id": "qGbyHNDMay9o"
      },
      "execution_count": null,
      "outputs": []
    },
    {
      "cell_type": "code",
      "source": [
        "#definindo o numero de épocas, a taxa de aprendizado, o otimizador e o batch size\n",
        "classificador_sklearn = NeuralNetClassifier(module = Classificador_torch, \n",
        "                                            criterion = torch.nn.CrossEntropyLoss, \n",
        "                                            optimizer = torch.optim.Adam,\n",
        "                                            max_epochs = 1000,\n",
        "                                            batch_size = 10,\n",
        "                                            train_split = False)"
      ],
      "metadata": {
        "id": "W8IkziV9biEC"
      },
      "execution_count": null,
      "outputs": []
    },
    {
      "cell_type": "code",
      "source": [
        "#FAZENDO A VALIDAÇÃO CRUZADA\n",
        "resultados = cross_val_score(classificador_sklearn, previsores, classe, cv = 5, \n",
        "                             scoring = 'accuracy')"
      ],
      "metadata": {
        "id": "MG34CHW6cW5V"
      },
      "execution_count": null,
      "outputs": []
    },
    {
      "cell_type": "code",
      "source": [
        "#extraindo a média e o desvio padrao dos resultados\n",
        "media = resultados.mean()\n",
        "desvio = resultados.std()"
      ],
      "metadata": {
        "id": "4uBmgFtPChTW"
      },
      "execution_count": null,
      "outputs": []
    },
    {
      "cell_type": "code",
      "source": [
        "media, desvio"
      ],
      "metadata": {
        "id": "2D-VA7iSChYF"
      },
      "execution_count": null,
      "outputs": []
    },
    {
      "cell_type": "code",
      "source": [
        "#printando a porcentagem de acerto de cada classe\n",
        "resultados"
      ],
      "metadata": {
        "id": "CKneu3W3Cp4M"
      },
      "execution_count": null,
      "outputs": []
    }
  ]
}